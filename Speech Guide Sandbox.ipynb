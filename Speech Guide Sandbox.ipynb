{
 "cells": [
  {
   "cell_type": "code",
   "execution_count": 115,
   "metadata": {},
   "outputs": [
    {
     "data": {
      "text/plain": [
       "72.0"
      ]
     },
     "execution_count": 115,
     "metadata": {},
     "output_type": "execute_result"
    }
   ],
   "source": [
    "import numpy as np\n",
    "import seaborn as sns\n",
    "import scipy\n",
    "import matplotlib.pyplot as plt\n",
    "import pandas as pd\n",
    "import parselmouth as pm\n",
    "from scipy.io.wavfile import read as read_wav\n",
    "from parselmouth.praat import call\n",
    "import pyaudio\n",
    "import wave\n",
    "from tqdm.notebook import tqdm\n",
    "sns.set() # Use seaborn's default style to make attractive graphs\n",
    "plt.rcParams['figure.dpi']"
   ]
  },
  {
   "cell_type": "code",
   "execution_count": 20,
   "metadata": {},
   "outputs": [],
   "source": [
    "sound = read_wav('/Users/Tomas/Desktop/NLP-HIT/PRRAT HW/recordings/heb4.wav')"
   ]
  },
  {
   "cell_type": "code",
   "execution_count": 28,
   "metadata": {},
   "outputs": [
    {
     "data": {
      "image/png": "[encoded data removed]",
      "text/plain": [
       "<Figure size 432x288 with 1 Axes>"
      ]
     },
     "metadata": {},
     "output_type": "display_data"
    }
   ],
   "source": [
    "snd = pm.Sound('heb4.wav')\n",
    "plt.figure()\n",
    "plt.plot(snd.xs(), snd.values.T)\n",
    "plt.xlim([snd.xmin, snd.xmax])\n",
    "plt.xlabel(\"time [s]\")\n",
    "plt.ylabel(\"amplitude\")\n",
    "plt.show()"
   ]
  },
  {
   "cell_type": "markdown",
   "metadata": {},
   "source": [
    "<h3 style=\"background-color:orange;font-family:newtimeroman;font-size:250%;text-align:center;border-radius: 15px 50px;\">Utilities and Helper Functions</h3>\n"
   ]
  },
  {
   "cell_type": "code",
   "execution_count": 94,
   "metadata": {},
   "outputs": [],
   "source": [
    "def draw_spectrogram(spectrogram, dynamic_range=70):\n",
    "    X, Y = spectrogram.x_grid(), spectrogram.y_grid()\n",
    "    sg_db = 10 * np.log10(spectrogram.values)\n",
    "    plt.pcolormesh(X, Y, sg_db, vmin=sg_db.max() - dynamic_range, cmap='afmhot')\n",
    "    plt.ylim([spectrogram.ymin, spectrogram.ymax])\n",
    "    plt.xlabel(\"time [s]\")\n",
    "    plt.ylabel(\"frequency [Hz]\")\n",
    "\n",
    "def draw_intensity(intensity):\n",
    "    plt.plot(intensity.xs(), intensity.values.T, linewidth=3, color='w')\n",
    "    plt.plot(intensity.xs(), intensity.values.T, linewidth=1)\n",
    "    plt.grid(False)\n",
    "    plt.ylim(0)\n",
    "    plt.ylabel(\"intensity [dB]\")\n",
    "def draw_pitch(pitch):\n",
    "    # Extract selected pitch contour, and\n",
    "    # replace unvoiced samples by NaN to not plot\n",
    "    pitch_values = pitch.selected_array['frequency']\n",
    "    pitch_values[pitch_values==0] = np.nan\n",
    "    plt.plot(pitch.xs(), pitch_values, 'o', markersize=5, color='w')\n",
    "    plt.plot(pitch.xs(), pitch_values, 'o', markersize=2)\n",
    "    plt.grid(False)\n",
    "    plt.ylim(0, pitch.ceiling)\n",
    "    plt.ylabel(\"fundamental frequency [Hz]\")\n",
    "\n",
    "# pitch = snd.to_pitch()\n",
    "# # If desired, pre-emphasize the sound fragment before calculating the spectrogram\n",
    "# pre_emphasized_snd = snd.copy()\n",
    "# pre_emphasized_snd.pre_emphasize()\n",
    "# spectrogram = pre_emphasized_snd.to_spectrogram(window_length=0.03, maximum_frequency=8000)\n",
    "# plt.figure()\n",
    "# draw_spectrogram(spectrogram)\n",
    "# plt.twinx()\n",
    "# draw_pitch(pitch)\n",
    "# plt.xlim([snd.xmin, snd.xmax])\n",
    "# plt.show()"
   ]
  },
  {
   "cell_type": "code",
   "execution_count": 92,
   "metadata": {},
   "outputs": [],
   "source": [
    "def calculate_sound_features(snd):\n",
    "    #Calculate A Bulck of prrat features simmilar to what we saw in MIT's paper \n",
    "    pitch     = snd.to_pitch().selected_array['frequency']\n",
    "    intensity = snd.to_intensity().values\n",
    "    max_pitch = np.max(pitch)\n",
    "    min_pitch = np.min(pitch)\n",
    "    mean_pitch = np.mean(pitch)\n",
    "    diffPitchMaxMean = max_pitch-mean_pitch\n",
    "    intensityMean = np.mean(intensity)\n",
    "    intensityMax = np.max(intensity)\n",
    "    intensityMin = np.min(intensity)\n",
    "    broad_pitch = call(snd, \"To Pitch\", 0.0, 50, 600) #create a praat pitch object\n",
    "    minF0 = call(broad_pitch, \"Get minimum\", 0, 0, \"hertz\", \"Parabolic\") # get min pitch\n",
    "    maxF0 = call(broad_pitch, \"Get maximum\", 0, 0, \"hertz\", \"Parabolic\")  # get max pitch\n",
    "    floor = minF0 * 0.9\n",
    "    ceiling = maxF0 * 1.1\n",
    "    pitch = call(snd, \"To Pitch\", 0.0, floor, ceiling)  # create a praat pitch object\n",
    "    duration = call(snd, \"Get total duration\") # duration\n",
    "    meanF0 = call(pitch, \"Get mean\", 0, 0, \"hertz\") # get mean pitch\n",
    "    stdevF0 = call(pitch, \"Get standard deviation\", 0 ,0, \"hertz\") # get standard deviation\n",
    "    harmonicity = call(snd, \"To Harmonicity (cc)\", 0.01, minF0, 0.1, 1.0)\n",
    "    hnr = call(harmonicity, \"Get mean\", 0, 0)\n",
    "    pointProcess = call(snd, \"To PointProcess (periodic, cc)\", minF0, maxF0)\n",
    "    localJitter = call(pointProcess, \"Get jitter (local)\", 0, 0, 0.0001, 0.02, 1.3)\n",
    "    if meanF0 > 170 and meanF0 < 300:\n",
    "        max_formant = 5500\n",
    "    elif meanF0 <=170:\n",
    "        max_formant = 5000\n",
    "    elif meanF0 >= 300:\n",
    "        max_formant = 8000\n",
    "        \n",
    "    formants = call(sound, \"To Formant (burg)\", 0.0025, 5, max_formant, 0.025, 50)\n",
    "    numPoints = call(pointProcess, \"Get number of points\")\n",
    "    f1_list = []\n",
    "    f2_list = []\n",
    "    f3_list = []\n",
    "    f4_list = []\n",
    "    for point in range(0, numPoints):\n",
    "        point += 1\n",
    "        t = call(pointProcess, \"Get time from index\", point)\n",
    "        f1 = call(formants, \"Get value at time\", 1, t, 'Hertz', 'Linear')\n",
    "        f2 = call(formants, \"Get value at time\", 2, t, 'Hertz', 'Linear')\n",
    "        f3 = call(formants, \"Get value at time\", 3, t, 'Hertz', 'Linear')\n",
    "        f4 = call(formants, \"Get value at time\", 4, t, 'Hertz', 'Linear')\n",
    "        f1_list.append(f1)\n",
    "        f2_list.append(f2)\n",
    "        f3_list.append(f3)\n",
    "        f4_list.append(f4)\n",
    "        f1_list.append(f1)\n",
    "        f2_list.append(f2)\n",
    "        f3_list.append(f3)\n",
    "        f4_list.append(f4)\n",
    "        \n",
    "    \n",
    "    #return relvent to us feature *delete later those that have no use\n",
    "    result_dict = {'intensityMax':intensityMax,\n",
    "                   'intensityMin':intensityMin,\n",
    "                   'intensityMean':intensityMean,\n",
    "                   'PitchMax':max_pitch,\n",
    "                   'PitchMin':min_pitch,\n",
    "                   'PitchMean':mean_pitch,\n",
    "                   'F1_STD':np.std(f1_list),\n",
    "                   'F3_STD':np.std(f3_list),\n",
    "                   'F2_STD_F1':np.std(f2_list)/np.std(f1_list)}\n",
    "    return result_dict\n",
    "        \n",
    "    "
   ]
  },
  {
   "cell_type": "code",
   "execution_count": 140,
   "metadata": {},
   "outputs": [],
   "source": [
    "def recored_audio(rec_time,fragmentize=2,output_path='',file_name='output.wav'):\n",
    "    \n",
    "    \"\"\"\n",
    "    Parameters\n",
    "    ----------\n",
    "    rec_time : int\n",
    "        The number of secondes the function will recored \n",
    "    output_path : str\n",
    "        where to save the recording\n",
    "    file_name : str\n",
    "        the name of the saved file followed by .wav\n",
    "    fragmentize : int\n",
    "        every x seconds save a fragment.wav file of the last x seconds in the recording\n",
    "    \"\"\"\n",
    "\n",
    "    \n",
    "    #=====================WAV Audio Format Static Variables ============================\n",
    "    CHUNK = 1024\n",
    "    FORMAT = pyaudio.paInt16\n",
    "    CHANNELS = 2\n",
    "    RATE = 44100\n",
    "    RECORD_SECONDS = rec_time\n",
    "    WAVE_OUTPUT_FILENAME = output_path+file_name\n",
    "\n",
    "    \n",
    "    p = pyaudio.PyAudio()\n",
    "\n",
    "    stream = p.open(format=FORMAT,\n",
    "                    channels=CHANNELS,\n",
    "                    rate=RATE,\n",
    "                    input=True,\n",
    "                    frames_per_buffer=CHUNK)\n",
    "\n",
    "    print(\"* recording\")\n",
    "\n",
    "    frames = []\n",
    "    segment = []\n",
    "\n",
    "    for i in tqdm(range(0, int(RATE / CHUNK * RECORD_SECONDS)),position =0):\n",
    "        data = stream.read(CHUNK)\n",
    "        frames.append(data)\n",
    "        if i%(int(RATE / CHUNK*fragmentize)) != 0:\n",
    "            segment.append(data)\n",
    "        else:\n",
    "            print('# fragment saved')\n",
    "            wf = wave.open(output_path+'fragment.wav', 'wb')\n",
    "            wf.setnchannels(CHANNELS)\n",
    "            wf.setsampwidth(p.get_sample_size(FORMAT))\n",
    "            wf.setframerate(RATE)\n",
    "            wf.writeframes(b''.join(frames))\n",
    "            wf.close()\n",
    "            segment = []\n",
    "\n",
    "    print(\"* done recording\")\n",
    "\n",
    "    stream.stop_stream()\n",
    "    stream.close()\n",
    "    p.terminate()\n",
    "\n",
    "    wf = wave.open(WAVE_OUTPUT_FILENAME, 'wb')\n",
    "    wf.setnchannels(CHANNELS)\n",
    "    wf.setsampwidth(p.get_sample_size(FORMAT))\n",
    "    wf.setframerate(RATE)\n",
    "    wf.writeframes(b''.join(frames))\n",
    "    wf.close()"
   ]
  },
  {
   "cell_type": "markdown",
   "metadata": {},
   "source": [
    "<h3 style=\"background-color:orange;font-family:newtimeroman;font-size:250%;text-align:center;border-radius: 15px 50px;\">Start Of Pipline \\ Playground</h3>\n"
   ]
  },
  {
   "cell_type": "code",
   "execution_count": 141,
   "metadata": {},
   "outputs": [
    {
     "data": {
      "text/plain": [
       "{'intensityMax': 87.29916095001568,\n",
       " 'intensityMin': 9.557054906711777,\n",
       " 'intensityMean': 65.29981394364263,\n",
       " 'PitchMax': 296.1721536573829,\n",
       " 'PitchMin': 0.0,\n",
       " 'PitchMean': 132.04390295706563,\n",
       " 'F1_STD': 271.99656889588783,\n",
       " 'F3_STD': 236.40790715960796,\n",
       " 'F2_STD_F1': 1.3927190720893396}"
      ]
     },
     "execution_count": 141,
     "metadata": {},
     "output_type": "execute_result"
    }
   ],
   "source": [
    "calculate_sound_features(snd)"
   ]
  },
  {
   "cell_type": "code",
   "execution_count": 146,
   "metadata": {},
   "outputs": [
    {
     "data": {
      "text/html": [
       "<div>\n",
       "<style scoped>\n",
       "    .dataframe tbody tr th:only-of-type {\n",
       "        vertical-align: middle;\n",
       "    }\n",
       "\n",
       "    .dataframe tbody tr th {\n",
       "        vertical-align: top;\n",
       "    }\n",
       "\n",
       "    .dataframe thead th {\n",
       "        text-align: right;\n",
       "    }\n",
       "</style>\n",
       "<table border=\"1\" class=\"dataframe\">\n",
       "  <thead>\n",
       "    <tr style=\"text-align: right;\">\n",
       "      <th></th>\n",
       "      <th>features</th>\n",
       "    </tr>\n",
       "  </thead>\n",
       "  <tbody>\n",
       "    <tr>\n",
       "      <th>0</th>\n",
       "      <td>intensityMax</td>\n",
       "    </tr>\n",
       "    <tr>\n",
       "      <th>1</th>\n",
       "      <td>intensityMin</td>\n",
       "    </tr>\n",
       "    <tr>\n",
       "      <th>2</th>\n",
       "      <td>intensityMean</td>\n",
       "    </tr>\n",
       "    <tr>\n",
       "      <th>3</th>\n",
       "      <td>PitchMax</td>\n",
       "    </tr>\n",
       "    <tr>\n",
       "      <th>4</th>\n",
       "      <td>PitchMin</td>\n",
       "    </tr>\n",
       "    <tr>\n",
       "      <th>5</th>\n",
       "      <td>PitchMean</td>\n",
       "    </tr>\n",
       "    <tr>\n",
       "      <th>6</th>\n",
       "      <td>F1_STD</td>\n",
       "    </tr>\n",
       "    <tr>\n",
       "      <th>7</th>\n",
       "      <td>F3_STD</td>\n",
       "    </tr>\n",
       "    <tr>\n",
       "      <th>8</th>\n",
       "      <td>F2_STD_F1</td>\n",
       "    </tr>\n",
       "  </tbody>\n",
       "</table>\n",
       "</div>"
      ],
      "text/plain": [
       "        features\n",
       "0   intensityMax\n",
       "1   intensityMin\n",
       "2  intensityMean\n",
       "3       PitchMax\n",
       "4       PitchMin\n",
       "5      PitchMean\n",
       "6         F1_STD\n",
       "7         F3_STD\n",
       "8      F2_STD_F1"
      ]
     },
     "execution_count": 146,
     "metadata": {},
     "output_type": "execute_result"
    }
   ],
   "source": [
    "pd.Series(calculate_sound_features(snd).keys(),name='features').to_frame()"
   ]
  },
  {
   "cell_type": "code",
   "execution_count": 142,
   "metadata": {},
   "outputs": [
    {
     "name": "stdout",
     "output_type": "stream",
     "text": [
      "* recording\n"
     ]
    },
    {
     "data": {
      "application/vnd.jupyter.widget-view+json": {
       "model_id": "ed0eebf34273416db454220f4d22f233",
       "version_major": 2,
       "version_minor": 0
      },
      "text/plain": [
       "HBox(children=(HTML(value=''), FloatProgress(value=0.0, max=258.0), HTML(value='')))"
      ]
     },
     "metadata": {},
     "output_type": "display_data"
    },
    {
     "name": "stdout",
     "output_type": "stream",
     "text": [
      "# fragment saved\n",
      "# fragment saved\n",
      "# fragment saved\n",
      "\n",
      "* done recording\n"
     ]
    }
   ],
   "source": [
    "recored_audio(6,2)"
   ]
  },
  {
   "cell_type": "code",
   "execution_count": null,
   "metadata": {},
   "outputs": [],
   "source": [
    "     "
   ]
  }
 ],
 "metadata": {
  "kernelspec": {
   "display_name": "Python 3",
   "language": "python",
   "name": "python3"
  },
  "language_info": {
   "codemirror_mode": {
    "name": "ipython",
    "version": 3
   },
   "file_extension": ".py",
   "mimetype": "text/x-python",
   "name": "python",
   "nbconvert_exporter": "python",
   "pygments_lexer": "ipython3",
   "version": "3.8.5"
  }
 },
 "nbformat": 4,
 "nbformat_minor": 4
}
