{
 "cells": [
  {
   "cell_type": "code",
   "execution_count": 86,
   "metadata": {},
   "outputs": [],
   "source": [
    "import pandas as pd\n",
    "import numpy as np \n",
    "import seaborn as sns\n",
    "import matplotlib.pyplot as plt\n",
    "import pickle\n",
    "import scipy\n",
    "from sklearn.model_selection import train_test_split,GridSearchCV\n",
    "from sklearn.preprocessing import StandardScaler\n",
    "from sklearn.pipeline import Pipeline\n",
    "from sklearn.linear_model import Ridge\n",
    "from sklearn.ensemble import RandomForestRegressor\n",
    "from xgboost import XGBRegressor"
   ]
  },
  {
   "cell_type": "code",
   "execution_count": 54,
   "metadata": {},
   "outputs": [
    {
     "data": {
      "text/plain": [
       "dict_keys(['explained_variance', 'r2', 'max_error', 'neg_median_absolute_error', 'neg_mean_absolute_error', 'neg_mean_squared_error', 'neg_mean_squared_log_error', 'neg_root_mean_squared_error', 'neg_mean_poisson_deviance', 'neg_mean_gamma_deviance', 'accuracy', 'roc_auc', 'roc_auc_ovr', 'roc_auc_ovo', 'roc_auc_ovr_weighted', 'roc_auc_ovo_weighted', 'balanced_accuracy', 'average_precision', 'neg_log_loss', 'neg_brier_score', 'adjusted_rand_score', 'homogeneity_score', 'completeness_score', 'v_measure_score', 'mutual_info_score', 'adjusted_mutual_info_score', 'normalized_mutual_info_score', 'fowlkes_mallows_score', 'precision', 'precision_macro', 'precision_micro', 'precision_samples', 'precision_weighted', 'recall', 'recall_macro', 'recall_micro', 'recall_samples', 'recall_weighted', 'f1', 'f1_macro', 'f1_micro', 'f1_samples', 'f1_weighted', 'jaccard', 'jaccard_macro', 'jaccard_micro', 'jaccard_samples', 'jaccard_weighted'])"
      ]
     },
     "execution_count": 54,
     "metadata": {},
     "output_type": "execute_result"
    }
   ],
   "source": [
    "import sklearn\n",
    "sklearn.metrics.SCORERS.keys()"
   ]
  },
  {
   "cell_type": "code",
   "execution_count": 128,
   "metadata": {},
   "outputs": [],
   "source": [
    "s_df = pd.read_csv('Research_Data/preprocessed_df.csv',usecols=            ['Score',\n",
    "                                                                             'intensityMean',\n",
    "                                                                            'intensityMin',\n",
    "                                                                            'intensityMax',\n",
    "                                                                            'max_pitch',\n",
    "                                                                            'mean_pitch',\n",
    "                                                                            'min_pitch',\n",
    "                                                                            'diffPitchMaxMean',\n",
    "                                                                            'f1STD',\n",
    "                                                                            'f3STD',\n",
    "                                                                            'f2STDf1'])"
   ]
  },
  {
   "cell_type": "code",
   "execution_count": 121,
   "metadata": {},
   "outputs": [],
   "source": [
    "SSCALER = StandardScaler()\n",
    "s_df.iloc[:,1:] = SSCALER.fit_transform(s_df.iloc[:,1:])"
   ]
  },
  {
   "cell_type": "code",
   "execution_count": 41,
   "metadata": {},
   "outputs": [],
   "source": [
    "X = s_df.iloc[:,1:]\n",
    "Y = s_df.iloc[:,0]\n",
    "train_x,text_x,train_y,test_y = train_test_split(X,Y)"
   ]
  },
  {
   "cell_type": "markdown",
   "metadata": {},
   "source": [
    "# Ridge Tunning"
   ]
  },
  {
   "cell_type": "code",
   "execution_count": 72,
   "metadata": {},
   "outputs": [
    {
     "name": "stderr",
     "output_type": "stream",
     "text": [
      "C:\\Users\\tomas\\anaconda3\\lib\\site-packages\\sklearn\\linear_model\\_ridge.py:148: LinAlgWarning: Ill-conditioned matrix (rcond=5.45916e-17): result may not be accurate.\n",
      "  overwrite_a=True).T\n",
      "C:\\Users\\tomas\\anaconda3\\lib\\site-packages\\sklearn\\linear_model\\_ridge.py:148: LinAlgWarning: Ill-conditioned matrix (rcond=9.39332e-17): result may not be accurate.\n",
      "  overwrite_a=True).T\n",
      "C:\\Users\\tomas\\anaconda3\\lib\\site-packages\\sklearn\\linear_model\\_ridge.py:148: LinAlgWarning: Ill-conditioned matrix (rcond=1.35206e-17): result may not be accurate.\n",
      "  overwrite_a=True).T\n",
      "C:\\Users\\tomas\\anaconda3\\lib\\site-packages\\sklearn\\linear_model\\_ridge.py:148: LinAlgWarning: Ill-conditioned matrix (rcond=2.63013e-17): result may not be accurate.\n",
      "  overwrite_a=True).T\n"
     ]
    },
    {
     "data": {
      "text/plain": [
       "GridSearchCV(cv=None, error_score=nan,\n",
       "             estimator=Ridge(alpha=1.0, copy_X=True, fit_intercept=True,\n",
       "                             max_iter=None, normalize=False, random_state=None,\n",
       "                             solver='auto', tol=0.001),\n",
       "             iid='deprecated', n_jobs=None,\n",
       "             param_grid={'alpha': array([0. , 0.2, 0.4, 0.6, 0.8, 1. , 1.2, 1.4, 1.6, 1.8, 2. , 2.2, 2.4,\n",
       "       2.6, 2.8, 3. , 3.2, 3.4]),\n",
       "                         'solver': ['svd', 'cholesky', 'lsqr', 'sparse_cg',\n",
       "                                    'sag', 'saga']},\n",
       "             pre_dispatch='2*n_jobs', refit=True, return_train_score=False,\n",
       "             scoring='neg_mean_squared_error', verbose=0)"
      ]
     },
     "execution_count": 72,
     "metadata": {},
     "output_type": "execute_result"
    }
   ],
   "source": [
    "tuned_parameters = {'alpha':np.arange(0,3.5,0.2),\n",
    "                    \n",
    "              'solver':['svd','cholesky','lsqr','sparse_cg','sag','saga']\n",
    "                   }\n",
    "\n",
    "\n",
    "Model_Under_Optimization = GridSearchCV(\n",
    "        Ridge(), tuned_parameters, scoring='neg_mean_squared_error',verbose=0\n",
    "    )\n",
    "\n",
    "Model_Under_Optimization.fit(train_x, train_y)"
   ]
  },
  {
   "cell_type": "code",
   "execution_count": 73,
   "metadata": {},
   "outputs": [
    {
     "name": "stdout",
     "output_type": "stream",
     "text": [
      "{'alpha': 3.4000000000000004, 'solver': 'lsqr'}\n"
     ]
    }
   ],
   "source": [
    "print(Model_Under_Optimization.best_params_)\n"
   ]
  },
  {
   "cell_type": "code",
   "execution_count": 74,
   "metadata": {},
   "outputs": [
    {
     "name": "stdout",
     "output_type": "stream",
     "text": [
      "Average F1-Score : [-0.031] | (+/-0.007) for {'alpha': 0.0, 'solver': 'svd'}\n",
      "Average F1-Score : [-0.030] | (+/-0.006) for {'alpha': 0.0, 'solver': 'cholesky'}\n",
      "Average F1-Score : [-0.030] | (+/-0.006) for {'alpha': 0.0, 'solver': 'lsqr'}\n",
      "Average F1-Score : [-0.030] | (+/-0.006) for {'alpha': 0.0, 'solver': 'sparse_cg'}\n",
      "Average F1-Score : [-0.030] | (+/-0.006) for {'alpha': 0.0, 'solver': 'sag'}\n",
      "Average F1-Score : [-0.030] | (+/-0.007) for {'alpha': 0.0, 'solver': 'saga'}\n",
      "Average F1-Score : [-0.030] | (+/-0.007) for {'alpha': 0.2, 'solver': 'svd'}\n",
      "Average F1-Score : [-0.030] | (+/-0.007) for {'alpha': 0.2, 'solver': 'cholesky'}\n",
      "Average F1-Score : [-0.030] | (+/-0.007) for {'alpha': 0.2, 'solver': 'lsqr'}\n",
      "Average F1-Score : [-0.030] | (+/-0.007) for {'alpha': 0.2, 'solver': 'sparse_cg'}\n",
      "Average F1-Score : [-0.030] | (+/-0.007) for {'alpha': 0.2, 'solver': 'sag'}\n",
      "Average F1-Score : [-0.030] | (+/-0.007) for {'alpha': 0.2, 'solver': 'saga'}\n",
      "Average F1-Score : [-0.030] | (+/-0.007) for {'alpha': 0.4, 'solver': 'svd'}\n",
      "Average F1-Score : [-0.030] | (+/-0.007) for {'alpha': 0.4, 'solver': 'cholesky'}\n",
      "Average F1-Score : [-0.030] | (+/-0.007) for {'alpha': 0.4, 'solver': 'lsqr'}\n",
      "Average F1-Score : [-0.030] | (+/-0.007) for {'alpha': 0.4, 'solver': 'sparse_cg'}\n",
      "Average F1-Score : [-0.030] | (+/-0.007) for {'alpha': 0.4, 'solver': 'sag'}\n",
      "Average F1-Score : [-0.030] | (+/-0.007) for {'alpha': 0.4, 'solver': 'saga'}\n",
      "Average F1-Score : [-0.030] | (+/-0.007) for {'alpha': 0.6000000000000001, 'solver': 'svd'}\n",
      "Average F1-Score : [-0.030] | (+/-0.007) for {'alpha': 0.6000000000000001, 'solver': 'cholesky'}\n",
      "Average F1-Score : [-0.030] | (+/-0.007) for {'alpha': 0.6000000000000001, 'solver': 'lsqr'}\n",
      "Average F1-Score : [-0.030] | (+/-0.007) for {'alpha': 0.6000000000000001, 'solver': 'sparse_cg'}\n",
      "Average F1-Score : [-0.030] | (+/-0.007) for {'alpha': 0.6000000000000001, 'solver': 'sag'}\n",
      "Average F1-Score : [-0.030] | (+/-0.007) for {'alpha': 0.6000000000000001, 'solver': 'saga'}\n",
      "Average F1-Score : [-0.030] | (+/-0.007) for {'alpha': 0.8, 'solver': 'svd'}\n",
      "Average F1-Score : [-0.030] | (+/-0.007) for {'alpha': 0.8, 'solver': 'cholesky'}\n",
      "Average F1-Score : [-0.030] | (+/-0.007) for {'alpha': 0.8, 'solver': 'lsqr'}\n",
      "Average F1-Score : [-0.030] | (+/-0.007) for {'alpha': 0.8, 'solver': 'sparse_cg'}\n",
      "Average F1-Score : [-0.030] | (+/-0.007) for {'alpha': 0.8, 'solver': 'sag'}\n",
      "Average F1-Score : [-0.030] | (+/-0.007) for {'alpha': 0.8, 'solver': 'saga'}\n",
      "Average F1-Score : [-0.030] | (+/-0.007) for {'alpha': 1.0, 'solver': 'svd'}\n",
      "Average F1-Score : [-0.030] | (+/-0.007) for {'alpha': 1.0, 'solver': 'cholesky'}\n",
      "Average F1-Score : [-0.030] | (+/-0.007) for {'alpha': 1.0, 'solver': 'lsqr'}\n",
      "Average F1-Score : [-0.030] | (+/-0.007) for {'alpha': 1.0, 'solver': 'sparse_cg'}\n",
      "Average F1-Score : [-0.030] | (+/-0.007) for {'alpha': 1.0, 'solver': 'sag'}\n",
      "Average F1-Score : [-0.030] | (+/-0.007) for {'alpha': 1.0, 'solver': 'saga'}\n",
      "Average F1-Score : [-0.030] | (+/-0.007) for {'alpha': 1.2000000000000002, 'solver': 'svd'}\n",
      "Average F1-Score : [-0.030] | (+/-0.007) for {'alpha': 1.2000000000000002, 'solver': 'cholesky'}\n",
      "Average F1-Score : [-0.030] | (+/-0.007) for {'alpha': 1.2000000000000002, 'solver': 'lsqr'}\n",
      "Average F1-Score : [-0.030] | (+/-0.007) for {'alpha': 1.2000000000000002, 'solver': 'sparse_cg'}\n",
      "Average F1-Score : [-0.030] | (+/-0.007) for {'alpha': 1.2000000000000002, 'solver': 'sag'}\n",
      "Average F1-Score : [-0.030] | (+/-0.007) for {'alpha': 1.2000000000000002, 'solver': 'saga'}\n",
      "Average F1-Score : [-0.030] | (+/-0.007) for {'alpha': 1.4000000000000001, 'solver': 'svd'}\n",
      "Average F1-Score : [-0.030] | (+/-0.007) for {'alpha': 1.4000000000000001, 'solver': 'cholesky'}\n",
      "Average F1-Score : [-0.030] | (+/-0.007) for {'alpha': 1.4000000000000001, 'solver': 'lsqr'}\n",
      "Average F1-Score : [-0.030] | (+/-0.007) for {'alpha': 1.4000000000000001, 'solver': 'sparse_cg'}\n",
      "Average F1-Score : [-0.030] | (+/-0.007) for {'alpha': 1.4000000000000001, 'solver': 'sag'}\n",
      "Average F1-Score : [-0.030] | (+/-0.007) for {'alpha': 1.4000000000000001, 'solver': 'saga'}\n",
      "Average F1-Score : [-0.030] | (+/-0.007) for {'alpha': 1.6, 'solver': 'svd'}\n",
      "Average F1-Score : [-0.030] | (+/-0.007) for {'alpha': 1.6, 'solver': 'cholesky'}\n",
      "Average F1-Score : [-0.030] | (+/-0.007) for {'alpha': 1.6, 'solver': 'lsqr'}\n",
      "Average F1-Score : [-0.030] | (+/-0.007) for {'alpha': 1.6, 'solver': 'sparse_cg'}\n",
      "Average F1-Score : [-0.030] | (+/-0.007) for {'alpha': 1.6, 'solver': 'sag'}\n",
      "Average F1-Score : [-0.030] | (+/-0.007) for {'alpha': 1.6, 'solver': 'saga'}\n",
      "Average F1-Score : [-0.030] | (+/-0.007) for {'alpha': 1.8, 'solver': 'svd'}\n",
      "Average F1-Score : [-0.030] | (+/-0.007) for {'alpha': 1.8, 'solver': 'cholesky'}\n",
      "Average F1-Score : [-0.030] | (+/-0.007) for {'alpha': 1.8, 'solver': 'lsqr'}\n",
      "Average F1-Score : [-0.030] | (+/-0.007) for {'alpha': 1.8, 'solver': 'sparse_cg'}\n",
      "Average F1-Score : [-0.030] | (+/-0.007) for {'alpha': 1.8, 'solver': 'sag'}\n",
      "Average F1-Score : [-0.030] | (+/-0.007) for {'alpha': 1.8, 'solver': 'saga'}\n",
      "Average F1-Score : [-0.030] | (+/-0.007) for {'alpha': 2.0, 'solver': 'svd'}\n",
      "Average F1-Score : [-0.030] | (+/-0.007) for {'alpha': 2.0, 'solver': 'cholesky'}\n",
      "Average F1-Score : [-0.030] | (+/-0.007) for {'alpha': 2.0, 'solver': 'lsqr'}\n",
      "Average F1-Score : [-0.030] | (+/-0.007) for {'alpha': 2.0, 'solver': 'sparse_cg'}\n",
      "Average F1-Score : [-0.030] | (+/-0.007) for {'alpha': 2.0, 'solver': 'sag'}\n",
      "Average F1-Score : [-0.030] | (+/-0.007) for {'alpha': 2.0, 'solver': 'saga'}\n",
      "Average F1-Score : [-0.030] | (+/-0.007) for {'alpha': 2.2, 'solver': 'svd'}\n",
      "Average F1-Score : [-0.030] | (+/-0.007) for {'alpha': 2.2, 'solver': 'cholesky'}\n",
      "Average F1-Score : [-0.030] | (+/-0.007) for {'alpha': 2.2, 'solver': 'lsqr'}\n",
      "Average F1-Score : [-0.030] | (+/-0.007) for {'alpha': 2.2, 'solver': 'sparse_cg'}\n",
      "Average F1-Score : [-0.030] | (+/-0.007) for {'alpha': 2.2, 'solver': 'sag'}\n",
      "Average F1-Score : [-0.030] | (+/-0.007) for {'alpha': 2.2, 'solver': 'saga'}\n",
      "Average F1-Score : [-0.030] | (+/-0.007) for {'alpha': 2.4000000000000004, 'solver': 'svd'}\n",
      "Average F1-Score : [-0.030] | (+/-0.007) for {'alpha': 2.4000000000000004, 'solver': 'cholesky'}\n",
      "Average F1-Score : [-0.030] | (+/-0.007) for {'alpha': 2.4000000000000004, 'solver': 'lsqr'}\n",
      "Average F1-Score : [-0.030] | (+/-0.007) for {'alpha': 2.4000000000000004, 'solver': 'sparse_cg'}\n",
      "Average F1-Score : [-0.030] | (+/-0.007) for {'alpha': 2.4000000000000004, 'solver': 'sag'}\n",
      "Average F1-Score : [-0.030] | (+/-0.007) for {'alpha': 2.4000000000000004, 'solver': 'saga'}\n",
      "Average F1-Score : [-0.030] | (+/-0.007) for {'alpha': 2.6, 'solver': 'svd'}\n",
      "Average F1-Score : [-0.030] | (+/-0.007) for {'alpha': 2.6, 'solver': 'cholesky'}\n",
      "Average F1-Score : [-0.030] | (+/-0.007) for {'alpha': 2.6, 'solver': 'lsqr'}\n",
      "Average F1-Score : [-0.030] | (+/-0.007) for {'alpha': 2.6, 'solver': 'sparse_cg'}\n",
      "Average F1-Score : [-0.030] | (+/-0.007) for {'alpha': 2.6, 'solver': 'sag'}\n",
      "Average F1-Score : [-0.030] | (+/-0.007) for {'alpha': 2.6, 'solver': 'saga'}\n",
      "Average F1-Score : [-0.030] | (+/-0.007) for {'alpha': 2.8000000000000003, 'solver': 'svd'}\n",
      "Average F1-Score : [-0.030] | (+/-0.007) for {'alpha': 2.8000000000000003, 'solver': 'cholesky'}\n",
      "Average F1-Score : [-0.030] | (+/-0.007) for {'alpha': 2.8000000000000003, 'solver': 'lsqr'}\n",
      "Average F1-Score : [-0.030] | (+/-0.007) for {'alpha': 2.8000000000000003, 'solver': 'sparse_cg'}\n",
      "Average F1-Score : [-0.030] | (+/-0.007) for {'alpha': 2.8000000000000003, 'solver': 'sag'}\n",
      "Average F1-Score : [-0.030] | (+/-0.007) for {'alpha': 2.8000000000000003, 'solver': 'saga'}\n",
      "Average F1-Score : [-0.030] | (+/-0.007) for {'alpha': 3.0, 'solver': 'svd'}\n",
      "Average F1-Score : [-0.030] | (+/-0.007) for {'alpha': 3.0, 'solver': 'cholesky'}\n",
      "Average F1-Score : [-0.030] | (+/-0.007) for {'alpha': 3.0, 'solver': 'lsqr'}\n",
      "Average F1-Score : [-0.030] | (+/-0.007) for {'alpha': 3.0, 'solver': 'sparse_cg'}\n",
      "Average F1-Score : [-0.030] | (+/-0.007) for {'alpha': 3.0, 'solver': 'sag'}\n",
      "Average F1-Score : [-0.030] | (+/-0.007) for {'alpha': 3.0, 'solver': 'saga'}\n",
      "Average F1-Score : [-0.030] | (+/-0.007) for {'alpha': 3.2, 'solver': 'svd'}\n",
      "Average F1-Score : [-0.030] | (+/-0.007) for {'alpha': 3.2, 'solver': 'cholesky'}\n",
      "Average F1-Score : [-0.030] | (+/-0.007) for {'alpha': 3.2, 'solver': 'lsqr'}\n",
      "Average F1-Score : [-0.030] | (+/-0.007) for {'alpha': 3.2, 'solver': 'sparse_cg'}\n",
      "Average F1-Score : [-0.030] | (+/-0.007) for {'alpha': 3.2, 'solver': 'sag'}\n",
      "Average F1-Score : [-0.030] | (+/-0.007) for {'alpha': 3.2, 'solver': 'saga'}\n",
      "Average F1-Score : [-0.030] | (+/-0.007) for {'alpha': 3.4000000000000004, 'solver': 'svd'}\n",
      "Average F1-Score : [-0.030] | (+/-0.007) for {'alpha': 3.4000000000000004, 'solver': 'cholesky'}\n",
      "Average F1-Score : [-0.030] | (+/-0.007) for {'alpha': 3.4000000000000004, 'solver': 'lsqr'}\n",
      "Average F1-Score : [-0.030] | (+/-0.007) for {'alpha': 3.4000000000000004, 'solver': 'sparse_cg'}\n",
      "Average F1-Score : [-0.030] | (+/-0.007) for {'alpha': 3.4000000000000004, 'solver': 'sag'}\n",
      "Average F1-Score : [-0.030] | (+/-0.007) for {'alpha': 3.4000000000000004, 'solver': 'saga'}\n"
     ]
    }
   ],
   "source": [
    "means = Model_Under_Optimization.cv_results_['mean_test_score']\n",
    "stds  = Model_Under_Optimization.cv_results_['std_test_score']\n",
    "for mean, std, params in zip(means, stds, Model_Under_Optimization.cv_results_['params']):\n",
    "    print(\"Average F1-Score : [%0.3f] | (+/-%0.03f) for %r\"\n",
    "          % (mean, std * 2, params))"
   ]
  },
  {
   "cell_type": "markdown",
   "metadata": {},
   "source": [
    "# Random Forest Tunning"
   ]
  },
  {
   "cell_type": "code",
   "execution_count": 77,
   "metadata": {},
   "outputs": [
    {
     "name": "stdout",
     "output_type": "stream",
     "text": [
      "Fitting 5 folds for each of 40 candidates, totalling 200 fits\n"
     ]
    },
    {
     "name": "stderr",
     "output_type": "stream",
     "text": [
      "[Parallel(n_jobs=1)]: Using backend SequentialBackend with 1 concurrent workers.\n",
      "[Parallel(n_jobs=1)]: Done 200 out of 200 | elapsed:   53.3s finished\n"
     ]
    },
    {
     "data": {
      "text/plain": [
       "GridSearchCV(cv=None, error_score=nan,\n",
       "             estimator=RandomForestRegressor(bootstrap=True, ccp_alpha=0.0,\n",
       "                                             criterion='mse', max_depth=None,\n",
       "                                             max_features='auto',\n",
       "                                             max_leaf_nodes=None,\n",
       "                                             max_samples=None,\n",
       "                                             min_impurity_decrease=0.0,\n",
       "                                             min_impurity_split=None,\n",
       "                                             min_samples_leaf=1,\n",
       "                                             min_samples_split=2,\n",
       "                                             min_weight_fraction_leaf=0.0,\n",
       "                                             n_estimators=100, n_jobs=None,\n",
       "                                             oob_score=False, random_state=None,\n",
       "                                             verbose=0, warm_start=False),\n",
       "             iid='deprecated', n_jobs=None,\n",
       "             param_grid=[{'criterion': ['mse', 'mae'],\n",
       "                          'min_samples_leaf': [1, 10, 100, 1000],\n",
       "                          'n_estimators': [2, 20, 100, 300, 700]}],\n",
       "             pre_dispatch='2*n_jobs', refit=True, return_train_score=False,\n",
       "             scoring='neg_mean_squared_error', verbose=1)"
      ]
     },
     "execution_count": 77,
     "metadata": {},
     "output_type": "execute_result"
    }
   ],
   "source": [
    "tuned_parameters = [{'n_estimators': [2,20,100,300,700],\n",
    "                     'criterion': ['mse','mae'],\n",
    "                     'min_samples_leaf': [1, 10, 100, 1000]}\n",
    "                   ]\n",
    "\n",
    "\n",
    "Model_Under_Optimization = GridSearchCV(\n",
    "        RandomForestRegressor(), tuned_parameters, scoring='neg_mean_squared_error',verbose=1\n",
    "    )\n",
    "\n",
    "Model_Under_Optimization.fit(train_x, train_y)"
   ]
  },
  {
   "cell_type": "code",
   "execution_count": 78,
   "metadata": {},
   "outputs": [
    {
     "name": "stdout",
     "output_type": "stream",
     "text": [
      "{'criterion': 'mse', 'min_samples_leaf': 10, 'n_estimators': 100}\n"
     ]
    }
   ],
   "source": [
    "print(Model_Under_Optimization.best_params_)\n"
   ]
  },
  {
   "cell_type": "code",
   "execution_count": 79,
   "metadata": {},
   "outputs": [
    {
     "name": "stdout",
     "output_type": "stream",
     "text": [
      "Average F1-Score : [-0.042] | (+/-0.025) for {'criterion': 'mse', 'min_samples_leaf': 1, 'n_estimators': 2}\n",
      "Average F1-Score : [-0.030] | (+/-0.005) for {'criterion': 'mse', 'min_samples_leaf': 1, 'n_estimators': 20}\n",
      "Average F1-Score : [-0.030] | (+/-0.006) for {'criterion': 'mse', 'min_samples_leaf': 1, 'n_estimators': 100}\n",
      "Average F1-Score : [-0.029] | (+/-0.006) for {'criterion': 'mse', 'min_samples_leaf': 1, 'n_estimators': 300}\n",
      "Average F1-Score : [-0.029] | (+/-0.006) for {'criterion': 'mse', 'min_samples_leaf': 1, 'n_estimators': 700}\n",
      "Average F1-Score : [-0.032] | (+/-0.007) for {'criterion': 'mse', 'min_samples_leaf': 10, 'n_estimators': 2}\n",
      "Average F1-Score : [-0.029] | (+/-0.006) for {'criterion': 'mse', 'min_samples_leaf': 10, 'n_estimators': 20}\n",
      "Average F1-Score : [-0.028] | (+/-0.005) for {'criterion': 'mse', 'min_samples_leaf': 10, 'n_estimators': 100}\n",
      "Average F1-Score : [-0.028] | (+/-0.006) for {'criterion': 'mse', 'min_samples_leaf': 10, 'n_estimators': 300}\n",
      "Average F1-Score : [-0.028] | (+/-0.006) for {'criterion': 'mse', 'min_samples_leaf': 10, 'n_estimators': 700}\n",
      "Average F1-Score : [-0.043] | (+/-0.018) for {'criterion': 'mse', 'min_samples_leaf': 100, 'n_estimators': 2}\n",
      "Average F1-Score : [-0.043] | (+/-0.018) for {'criterion': 'mse', 'min_samples_leaf': 100, 'n_estimators': 20}\n",
      "Average F1-Score : [-0.043] | (+/-0.019) for {'criterion': 'mse', 'min_samples_leaf': 100, 'n_estimators': 100}\n",
      "Average F1-Score : [-0.043] | (+/-0.018) for {'criterion': 'mse', 'min_samples_leaf': 100, 'n_estimators': 300}\n",
      "Average F1-Score : [-0.043] | (+/-0.019) for {'criterion': 'mse', 'min_samples_leaf': 100, 'n_estimators': 700}\n",
      "Average F1-Score : [-0.042] | (+/-0.018) for {'criterion': 'mse', 'min_samples_leaf': 1000, 'n_estimators': 2}\n",
      "Average F1-Score : [-0.043] | (+/-0.019) for {'criterion': 'mse', 'min_samples_leaf': 1000, 'n_estimators': 20}\n",
      "Average F1-Score : [-0.043] | (+/-0.019) for {'criterion': 'mse', 'min_samples_leaf': 1000, 'n_estimators': 100}\n",
      "Average F1-Score : [-0.043] | (+/-0.018) for {'criterion': 'mse', 'min_samples_leaf': 1000, 'n_estimators': 300}\n",
      "Average F1-Score : [-0.043] | (+/-0.018) for {'criterion': 'mse', 'min_samples_leaf': 1000, 'n_estimators': 700}\n",
      "Average F1-Score : [-0.050] | (+/-0.014) for {'criterion': 'mae', 'min_samples_leaf': 1, 'n_estimators': 2}\n",
      "Average F1-Score : [-0.029] | (+/-0.003) for {'criterion': 'mae', 'min_samples_leaf': 1, 'n_estimators': 20}\n",
      "Average F1-Score : [-0.030] | (+/-0.008) for {'criterion': 'mae', 'min_samples_leaf': 1, 'n_estimators': 100}\n",
      "Average F1-Score : [-0.028] | (+/-0.005) for {'criterion': 'mae', 'min_samples_leaf': 1, 'n_estimators': 300}\n",
      "Average F1-Score : [-0.029] | (+/-0.005) for {'criterion': 'mae', 'min_samples_leaf': 1, 'n_estimators': 700}\n",
      "Average F1-Score : [-0.031] | (+/-0.009) for {'criterion': 'mae', 'min_samples_leaf': 10, 'n_estimators': 2}\n",
      "Average F1-Score : [-0.029] | (+/-0.007) for {'criterion': 'mae', 'min_samples_leaf': 10, 'n_estimators': 20}\n",
      "Average F1-Score : [-0.028] | (+/-0.008) for {'criterion': 'mae', 'min_samples_leaf': 10, 'n_estimators': 100}\n",
      "Average F1-Score : [-0.029] | (+/-0.007) for {'criterion': 'mae', 'min_samples_leaf': 10, 'n_estimators': 300}\n",
      "Average F1-Score : [-0.029] | (+/-0.007) for {'criterion': 'mae', 'min_samples_leaf': 10, 'n_estimators': 700}\n",
      "Average F1-Score : [-0.043] | (+/-0.018) for {'criterion': 'mae', 'min_samples_leaf': 100, 'n_estimators': 2}\n",
      "Average F1-Score : [-0.043] | (+/-0.018) for {'criterion': 'mae', 'min_samples_leaf': 100, 'n_estimators': 20}\n",
      "Average F1-Score : [-0.043] | (+/-0.018) for {'criterion': 'mae', 'min_samples_leaf': 100, 'n_estimators': 100}\n",
      "Average F1-Score : [-0.043] | (+/-0.018) for {'criterion': 'mae', 'min_samples_leaf': 100, 'n_estimators': 300}\n",
      "Average F1-Score : [-0.043] | (+/-0.018) for {'criterion': 'mae', 'min_samples_leaf': 100, 'n_estimators': 700}\n",
      "Average F1-Score : [-0.042] | (+/-0.018) for {'criterion': 'mae', 'min_samples_leaf': 1000, 'n_estimators': 2}\n",
      "Average F1-Score : [-0.043] | (+/-0.018) for {'criterion': 'mae', 'min_samples_leaf': 1000, 'n_estimators': 20}\n",
      "Average F1-Score : [-0.043] | (+/-0.018) for {'criterion': 'mae', 'min_samples_leaf': 1000, 'n_estimators': 100}\n",
      "Average F1-Score : [-0.043] | (+/-0.018) for {'criterion': 'mae', 'min_samples_leaf': 1000, 'n_estimators': 300}\n",
      "Average F1-Score : [-0.043] | (+/-0.018) for {'criterion': 'mae', 'min_samples_leaf': 1000, 'n_estimators': 700}\n"
     ]
    }
   ],
   "source": [
    "means = Model_Under_Optimization.cv_results_['mean_test_score']\n",
    "stds  = Model_Under_Optimization.cv_results_['std_test_score']\n",
    "for mean, std, params in zip(means, stds, Model_Under_Optimization.cv_results_['params']):\n",
    "    print(\"Average F1-Score : [%0.3f] | (+/-%0.03f) for %r\"\n",
    "          % (mean, std * 2, params))"
   ]
  },
  {
   "cell_type": "code",
   "execution_count": 83,
   "metadata": {},
   "outputs": [],
   "source": [
    "optimised_RandomForest = Model_Under_Optimization.best_estimator_\n"
   ]
  },
  {
   "cell_type": "code",
   "execution_count": 87,
   "metadata": {},
   "outputs": [],
   "source": [
    "optimised_RandomForest.fit(X,Y)\n",
    "with open('optimzed_RF.pkl','wb') as file:\n",
    "    pickle.dump(optimised_RandomForest,file)"
   ]
  },
  {
   "cell_type": "code",
   "execution_count": 94,
   "metadata": {},
   "outputs": [
    {
     "name": "stdout",
     "output_type": "stream",
     "text": [
      "Self Tested RMSE of RFR:  1.6369114676114538\n"
     ]
    }
   ],
   "source": [
    "print(\"Self Tested RMSE of RFR: \",np.sqrt(((optimised_RandomForest.predict(X)-Y)**2).sum()))"
   ]
  },
  {
   "cell_type": "markdown",
   "metadata": {},
   "source": [
    "# Optimizing XGBoost"
   ]
  },
  {
   "cell_type": "code",
   "execution_count": 106,
   "metadata": {},
   "outputs": [
    {
     "name": "stdout",
     "output_type": "stream",
     "text": [
      "Fitting 5 folds for each of 90 candidates, totalling 450 fits\n"
     ]
    },
    {
     "name": "stderr",
     "output_type": "stream",
     "text": [
      "[Parallel(n_jobs=1)]: Using backend SequentialBackend with 1 concurrent workers.\n",
      "[Parallel(n_jobs=1)]: Done 450 out of 450 | elapsed:  1.7min finished\n"
     ]
    },
    {
     "data": {
      "text/plain": [
       "GridSearchCV(cv=None, error_score=nan,\n",
       "             estimator=XGBRegressor(base_score=None, booster=None,\n",
       "                                    colsample_bylevel=None,\n",
       "                                    colsample_bynode=None,\n",
       "                                    colsample_bytree=None, gamma=None,\n",
       "                                    gpu_id=None, importance_type='gain',\n",
       "                                    interaction_constraints=None,\n",
       "                                    learning_rate=None, max_delta_step=None,\n",
       "                                    max_depth=None, min_child_weight=None,\n",
       "                                    missing=nan, monotone_constraints=None,\n",
       "                                    n_est...\n",
       "             param_grid={'colsample_bytree': [0.7],\n",
       "                         'learning_rate': [0.03, 0.05, 0.07],\n",
       "                         'max_depth': [5, 6, 7], 'min_child_weight': [4],\n",
       "                         'n_estimators': [500], 'nthread': [4],\n",
       "                         'objective': ['reg:squarederror'], 'silent': [1],\n",
       "                         'subsample': array([0. , 0.1, 0.2, 0.3, 0.4, 0.5, 0.6, 0.7, 0.8, 0.9]),\n",
       "                         'verbosity': [0]},\n",
       "             pre_dispatch='2*n_jobs', refit=True, return_train_score=False,\n",
       "             scoring='neg_mean_squared_error', verbose=1)"
      ]
     },
     "execution_count": 106,
     "metadata": {},
     "output_type": "execute_result"
    }
   ],
   "source": [
    "tuned_parameters= {'nthread':[4], #when use hyperthread, xgboost may become slower\n",
    "              'objective':['reg:squarederror'],\n",
    "              'learning_rate': [.03, 0.05, .07], #so called `eta` value\n",
    "              'max_depth': [5, 6, 7],\n",
    "              'min_child_weight': [4],\n",
    "              'silent': [1],\n",
    "              'subsample': np.arange(0,1,0.1),\n",
    "              'colsample_bytree': [0.7],\n",
    "              'n_estimators': [500],\n",
    "                'verbosity':[0]}\n",
    "\n",
    "\n",
    "\n",
    "Model_Under_Optimization = GridSearchCV(\n",
    "        XGBRegressor(), tuned_parameters, scoring='neg_mean_squared_error',verbose=1\n",
    "    )\n",
    "\n",
    "Model_Under_Optimization.fit(train_x, train_y)"
   ]
  },
  {
   "cell_type": "code",
   "execution_count": 104,
   "metadata": {},
   "outputs": [
    {
     "name": "stdout",
     "output_type": "stream",
     "text": [
      "{'colsample_bytree': 0.7, 'learning_rate': 0.03, 'max_depth': 5, 'min_child_weight': 4, 'n_estimators': 500, 'nthread': 4, 'objective': 'reg:squarederror', 'silent': 1, 'subsample': 0.7, 'verbosity': 0}\n"
     ]
    }
   ],
   "source": [
    "print(Model_Under_Optimization.best_params_)\n"
   ]
  },
  {
   "cell_type": "code",
   "execution_count": 107,
   "metadata": {},
   "outputs": [
    {
     "name": "stdout",
     "output_type": "stream",
     "text": [
      "Lowest Average RMSE:  -0.04273722678788129\n"
     ]
    }
   ],
   "source": [
    "means = Model_Under_Optimization.cv_results_['mean_test_score']\n",
    "stds  = Model_Under_Optimization.cv_results_['std_test_score']\n",
    "\n",
    "print('Lowest Average RMSE: ',np.min(means))"
   ]
  },
  {
   "cell_type": "code",
   "execution_count": 108,
   "metadata": {},
   "outputs": [
    {
     "name": "stdout",
     "output_type": "stream",
     "text": [
      "Average F1-Score : [-0.043] | (+/-0.017) for {'colsample_bytree': 0.7, 'learning_rate': 0.03, 'max_depth': 5, 'min_child_weight': 4, 'n_estimators': 500, 'nthread': 4, 'objective': 'reg:squarederror', 'silent': 1, 'subsample': 0.0, 'verbosity': 0}\n",
      "Average F1-Score : [-0.029] | (+/-0.010) for {'colsample_bytree': 0.7, 'learning_rate': 0.03, 'max_depth': 5, 'min_child_weight': 4, 'n_estimators': 500, 'nthread': 4, 'objective': 'reg:squarederror', 'silent': 1, 'subsample': 0.1, 'verbosity': 0}\n",
      "Average F1-Score : [-0.031] | (+/-0.003) for {'colsample_bytree': 0.7, 'learning_rate': 0.03, 'max_depth': 5, 'min_child_weight': 4, 'n_estimators': 500, 'nthread': 4, 'objective': 'reg:squarederror', 'silent': 1, 'subsample': 0.2, 'verbosity': 0}\n",
      "Average F1-Score : [-0.031] | (+/-0.005) for {'colsample_bytree': 0.7, 'learning_rate': 0.03, 'max_depth': 5, 'min_child_weight': 4, 'n_estimators': 500, 'nthread': 4, 'objective': 'reg:squarederror', 'silent': 1, 'subsample': 0.30000000000000004, 'verbosity': 0}\n",
      "Average F1-Score : [-0.031] | (+/-0.005) for {'colsample_bytree': 0.7, 'learning_rate': 0.03, 'max_depth': 5, 'min_child_weight': 4, 'n_estimators': 500, 'nthread': 4, 'objective': 'reg:squarederror', 'silent': 1, 'subsample': 0.4, 'verbosity': 0}\n",
      "Average F1-Score : [-0.031] | (+/-0.007) for {'colsample_bytree': 0.7, 'learning_rate': 0.03, 'max_depth': 5, 'min_child_weight': 4, 'n_estimators': 500, 'nthread': 4, 'objective': 'reg:squarederror', 'silent': 1, 'subsample': 0.5, 'verbosity': 0}\n",
      "Average F1-Score : [-0.031] | (+/-0.007) for {'colsample_bytree': 0.7, 'learning_rate': 0.03, 'max_depth': 5, 'min_child_weight': 4, 'n_estimators': 500, 'nthread': 4, 'objective': 'reg:squarederror', 'silent': 1, 'subsample': 0.6000000000000001, 'verbosity': 0}\n",
      "Average F1-Score : [-0.032] | (+/-0.007) for {'colsample_bytree': 0.7, 'learning_rate': 0.03, 'max_depth': 5, 'min_child_weight': 4, 'n_estimators': 500, 'nthread': 4, 'objective': 'reg:squarederror', 'silent': 1, 'subsample': 0.7000000000000001, 'verbosity': 0}\n",
      "Average F1-Score : [-0.032] | (+/-0.006) for {'colsample_bytree': 0.7, 'learning_rate': 0.03, 'max_depth': 5, 'min_child_weight': 4, 'n_estimators': 500, 'nthread': 4, 'objective': 'reg:squarederror', 'silent': 1, 'subsample': 0.8, 'verbosity': 0}\n",
      "Average F1-Score : [-0.032] | (+/-0.005) for {'colsample_bytree': 0.7, 'learning_rate': 0.03, 'max_depth': 5, 'min_child_weight': 4, 'n_estimators': 500, 'nthread': 4, 'objective': 'reg:squarederror', 'silent': 1, 'subsample': 0.9, 'verbosity': 0}\n",
      "Average F1-Score : [-0.043] | (+/-0.017) for {'colsample_bytree': 0.7, 'learning_rate': 0.03, 'max_depth': 6, 'min_child_weight': 4, 'n_estimators': 500, 'nthread': 4, 'objective': 'reg:squarederror', 'silent': 1, 'subsample': 0.0, 'verbosity': 0}\n",
      "Average F1-Score : [-0.029] | (+/-0.010) for {'colsample_bytree': 0.7, 'learning_rate': 0.03, 'max_depth': 6, 'min_child_weight': 4, 'n_estimators': 500, 'nthread': 4, 'objective': 'reg:squarederror', 'silent': 1, 'subsample': 0.1, 'verbosity': 0}\n",
      "Average F1-Score : [-0.031] | (+/-0.003) for {'colsample_bytree': 0.7, 'learning_rate': 0.03, 'max_depth': 6, 'min_child_weight': 4, 'n_estimators': 500, 'nthread': 4, 'objective': 'reg:squarederror', 'silent': 1, 'subsample': 0.2, 'verbosity': 0}\n",
      "Average F1-Score : [-0.031] | (+/-0.005) for {'colsample_bytree': 0.7, 'learning_rate': 0.03, 'max_depth': 6, 'min_child_weight': 4, 'n_estimators': 500, 'nthread': 4, 'objective': 'reg:squarederror', 'silent': 1, 'subsample': 0.30000000000000004, 'verbosity': 0}\n",
      "Average F1-Score : [-0.031] | (+/-0.005) for {'colsample_bytree': 0.7, 'learning_rate': 0.03, 'max_depth': 6, 'min_child_weight': 4, 'n_estimators': 500, 'nthread': 4, 'objective': 'reg:squarederror', 'silent': 1, 'subsample': 0.4, 'verbosity': 0}\n",
      "Average F1-Score : [-0.031] | (+/-0.008) for {'colsample_bytree': 0.7, 'learning_rate': 0.03, 'max_depth': 6, 'min_child_weight': 4, 'n_estimators': 500, 'nthread': 4, 'objective': 'reg:squarederror', 'silent': 1, 'subsample': 0.5, 'verbosity': 0}\n",
      "Average F1-Score : [-0.032] | (+/-0.007) for {'colsample_bytree': 0.7, 'learning_rate': 0.03, 'max_depth': 6, 'min_child_weight': 4, 'n_estimators': 500, 'nthread': 4, 'objective': 'reg:squarederror', 'silent': 1, 'subsample': 0.6000000000000001, 'verbosity': 0}\n",
      "Average F1-Score : [-0.032] | (+/-0.006) for {'colsample_bytree': 0.7, 'learning_rate': 0.03, 'max_depth': 6, 'min_child_weight': 4, 'n_estimators': 500, 'nthread': 4, 'objective': 'reg:squarederror', 'silent': 1, 'subsample': 0.7000000000000001, 'verbosity': 0}\n",
      "Average F1-Score : [-0.032] | (+/-0.006) for {'colsample_bytree': 0.7, 'learning_rate': 0.03, 'max_depth': 6, 'min_child_weight': 4, 'n_estimators': 500, 'nthread': 4, 'objective': 'reg:squarederror', 'silent': 1, 'subsample': 0.8, 'verbosity': 0}\n",
      "Average F1-Score : [-0.032] | (+/-0.004) for {'colsample_bytree': 0.7, 'learning_rate': 0.03, 'max_depth': 6, 'min_child_weight': 4, 'n_estimators': 500, 'nthread': 4, 'objective': 'reg:squarederror', 'silent': 1, 'subsample': 0.9, 'verbosity': 0}\n",
      "Average F1-Score : [-0.043] | (+/-0.017) for {'colsample_bytree': 0.7, 'learning_rate': 0.03, 'max_depth': 7, 'min_child_weight': 4, 'n_estimators': 500, 'nthread': 4, 'objective': 'reg:squarederror', 'silent': 1, 'subsample': 0.0, 'verbosity': 0}\n",
      "Average F1-Score : [-0.029] | (+/-0.010) for {'colsample_bytree': 0.7, 'learning_rate': 0.03, 'max_depth': 7, 'min_child_weight': 4, 'n_estimators': 500, 'nthread': 4, 'objective': 'reg:squarederror', 'silent': 1, 'subsample': 0.1, 'verbosity': 0}\n",
      "Average F1-Score : [-0.031] | (+/-0.003) for {'colsample_bytree': 0.7, 'learning_rate': 0.03, 'max_depth': 7, 'min_child_weight': 4, 'n_estimators': 500, 'nthread': 4, 'objective': 'reg:squarederror', 'silent': 1, 'subsample': 0.2, 'verbosity': 0}\n",
      "Average F1-Score : [-0.031] | (+/-0.005) for {'colsample_bytree': 0.7, 'learning_rate': 0.03, 'max_depth': 7, 'min_child_weight': 4, 'n_estimators': 500, 'nthread': 4, 'objective': 'reg:squarederror', 'silent': 1, 'subsample': 0.30000000000000004, 'verbosity': 0}\n",
      "Average F1-Score : [-0.031] | (+/-0.005) for {'colsample_bytree': 0.7, 'learning_rate': 0.03, 'max_depth': 7, 'min_child_weight': 4, 'n_estimators': 500, 'nthread': 4, 'objective': 'reg:squarederror', 'silent': 1, 'subsample': 0.4, 'verbosity': 0}\n",
      "Average F1-Score : [-0.031] | (+/-0.008) for {'colsample_bytree': 0.7, 'learning_rate': 0.03, 'max_depth': 7, 'min_child_weight': 4, 'n_estimators': 500, 'nthread': 4, 'objective': 'reg:squarederror', 'silent': 1, 'subsample': 0.5, 'verbosity': 0}\n",
      "Average F1-Score : [-0.032] | (+/-0.007) for {'colsample_bytree': 0.7, 'learning_rate': 0.03, 'max_depth': 7, 'min_child_weight': 4, 'n_estimators': 500, 'nthread': 4, 'objective': 'reg:squarederror', 'silent': 1, 'subsample': 0.6000000000000001, 'verbosity': 0}\n",
      "Average F1-Score : [-0.033] | (+/-0.005) for {'colsample_bytree': 0.7, 'learning_rate': 0.03, 'max_depth': 7, 'min_child_weight': 4, 'n_estimators': 500, 'nthread': 4, 'objective': 'reg:squarederror', 'silent': 1, 'subsample': 0.7000000000000001, 'verbosity': 0}\n",
      "Average F1-Score : [-0.033] | (+/-0.006) for {'colsample_bytree': 0.7, 'learning_rate': 0.03, 'max_depth': 7, 'min_child_weight': 4, 'n_estimators': 500, 'nthread': 4, 'objective': 'reg:squarederror', 'silent': 1, 'subsample': 0.8, 'verbosity': 0}\n",
      "Average F1-Score : [-0.032] | (+/-0.005) for {'colsample_bytree': 0.7, 'learning_rate': 0.03, 'max_depth': 7, 'min_child_weight': 4, 'n_estimators': 500, 'nthread': 4, 'objective': 'reg:squarederror', 'silent': 1, 'subsample': 0.9, 'verbosity': 0}\n",
      "Average F1-Score : [-0.043] | (+/-0.017) for {'colsample_bytree': 0.7, 'learning_rate': 0.05, 'max_depth': 5, 'min_child_weight': 4, 'n_estimators': 500, 'nthread': 4, 'objective': 'reg:squarederror', 'silent': 1, 'subsample': 0.0, 'verbosity': 0}\n",
      "Average F1-Score : [-0.030] | (+/-0.011) for {'colsample_bytree': 0.7, 'learning_rate': 0.05, 'max_depth': 5, 'min_child_weight': 4, 'n_estimators': 500, 'nthread': 4, 'objective': 'reg:squarederror', 'silent': 1, 'subsample': 0.1, 'verbosity': 0}\n",
      "Average F1-Score : [-0.033] | (+/-0.007) for {'colsample_bytree': 0.7, 'learning_rate': 0.05, 'max_depth': 5, 'min_child_weight': 4, 'n_estimators': 500, 'nthread': 4, 'objective': 'reg:squarederror', 'silent': 1, 'subsample': 0.2, 'verbosity': 0}\n",
      "Average F1-Score : [-0.034] | (+/-0.007) for {'colsample_bytree': 0.7, 'learning_rate': 0.05, 'max_depth': 5, 'min_child_weight': 4, 'n_estimators': 500, 'nthread': 4, 'objective': 'reg:squarederror', 'silent': 1, 'subsample': 0.30000000000000004, 'verbosity': 0}\n",
      "Average F1-Score : [-0.032] | (+/-0.006) for {'colsample_bytree': 0.7, 'learning_rate': 0.05, 'max_depth': 5, 'min_child_weight': 4, 'n_estimators': 500, 'nthread': 4, 'objective': 'reg:squarederror', 'silent': 1, 'subsample': 0.4, 'verbosity': 0}\n",
      "Average F1-Score : [-0.031] | (+/-0.006) for {'colsample_bytree': 0.7, 'learning_rate': 0.05, 'max_depth': 5, 'min_child_weight': 4, 'n_estimators': 500, 'nthread': 4, 'objective': 'reg:squarederror', 'silent': 1, 'subsample': 0.5, 'verbosity': 0}\n",
      "Average F1-Score : [-0.031] | (+/-0.007) for {'colsample_bytree': 0.7, 'learning_rate': 0.05, 'max_depth': 5, 'min_child_weight': 4, 'n_estimators': 500, 'nthread': 4, 'objective': 'reg:squarederror', 'silent': 1, 'subsample': 0.6000000000000001, 'verbosity': 0}\n",
      "Average F1-Score : [-0.034] | (+/-0.007) for {'colsample_bytree': 0.7, 'learning_rate': 0.05, 'max_depth': 5, 'min_child_weight': 4, 'n_estimators': 500, 'nthread': 4, 'objective': 'reg:squarederror', 'silent': 1, 'subsample': 0.7000000000000001, 'verbosity': 0}\n",
      "Average F1-Score : [-0.032] | (+/-0.006) for {'colsample_bytree': 0.7, 'learning_rate': 0.05, 'max_depth': 5, 'min_child_weight': 4, 'n_estimators': 500, 'nthread': 4, 'objective': 'reg:squarederror', 'silent': 1, 'subsample': 0.8, 'verbosity': 0}\n",
      "Average F1-Score : [-0.033] | (+/-0.005) for {'colsample_bytree': 0.7, 'learning_rate': 0.05, 'max_depth': 5, 'min_child_weight': 4, 'n_estimators': 500, 'nthread': 4, 'objective': 'reg:squarederror', 'silent': 1, 'subsample': 0.9, 'verbosity': 0}\n",
      "Average F1-Score : [-0.043] | (+/-0.017) for {'colsample_bytree': 0.7, 'learning_rate': 0.05, 'max_depth': 6, 'min_child_weight': 4, 'n_estimators': 500, 'nthread': 4, 'objective': 'reg:squarederror', 'silent': 1, 'subsample': 0.0, 'verbosity': 0}\n",
      "Average F1-Score : [-0.030] | (+/-0.011) for {'colsample_bytree': 0.7, 'learning_rate': 0.05, 'max_depth': 6, 'min_child_weight': 4, 'n_estimators': 500, 'nthread': 4, 'objective': 'reg:squarederror', 'silent': 1, 'subsample': 0.1, 'verbosity': 0}\n",
      "Average F1-Score : [-0.033] | (+/-0.007) for {'colsample_bytree': 0.7, 'learning_rate': 0.05, 'max_depth': 6, 'min_child_weight': 4, 'n_estimators': 500, 'nthread': 4, 'objective': 'reg:squarederror', 'silent': 1, 'subsample': 0.2, 'verbosity': 0}\n",
      "Average F1-Score : [-0.034] | (+/-0.007) for {'colsample_bytree': 0.7, 'learning_rate': 0.05, 'max_depth': 6, 'min_child_weight': 4, 'n_estimators': 500, 'nthread': 4, 'objective': 'reg:squarederror', 'silent': 1, 'subsample': 0.30000000000000004, 'verbosity': 0}\n",
      "Average F1-Score : [-0.033] | (+/-0.007) for {'colsample_bytree': 0.7, 'learning_rate': 0.05, 'max_depth': 6, 'min_child_weight': 4, 'n_estimators': 500, 'nthread': 4, 'objective': 'reg:squarederror', 'silent': 1, 'subsample': 0.4, 'verbosity': 0}\n",
      "Average F1-Score : [-0.031] | (+/-0.007) for {'colsample_bytree': 0.7, 'learning_rate': 0.05, 'max_depth': 6, 'min_child_weight': 4, 'n_estimators': 500, 'nthread': 4, 'objective': 'reg:squarederror', 'silent': 1, 'subsample': 0.5, 'verbosity': 0}\n",
      "Average F1-Score : [-0.031] | (+/-0.008) for {'colsample_bytree': 0.7, 'learning_rate': 0.05, 'max_depth': 6, 'min_child_weight': 4, 'n_estimators': 500, 'nthread': 4, 'objective': 'reg:squarederror', 'silent': 1, 'subsample': 0.6000000000000001, 'verbosity': 0}\n",
      "Average F1-Score : [-0.033] | (+/-0.007) for {'colsample_bytree': 0.7, 'learning_rate': 0.05, 'max_depth': 6, 'min_child_weight': 4, 'n_estimators': 500, 'nthread': 4, 'objective': 'reg:squarederror', 'silent': 1, 'subsample': 0.7000000000000001, 'verbosity': 0}\n",
      "Average F1-Score : [-0.033] | (+/-0.007) for {'colsample_bytree': 0.7, 'learning_rate': 0.05, 'max_depth': 6, 'min_child_weight': 4, 'n_estimators': 500, 'nthread': 4, 'objective': 'reg:squarederror', 'silent': 1, 'subsample': 0.8, 'verbosity': 0}\n",
      "Average F1-Score : [-0.033] | (+/-0.006) for {'colsample_bytree': 0.7, 'learning_rate': 0.05, 'max_depth': 6, 'min_child_weight': 4, 'n_estimators': 500, 'nthread': 4, 'objective': 'reg:squarederror', 'silent': 1, 'subsample': 0.9, 'verbosity': 0}\n",
      "Average F1-Score : [-0.043] | (+/-0.017) for {'colsample_bytree': 0.7, 'learning_rate': 0.05, 'max_depth': 7, 'min_child_weight': 4, 'n_estimators': 500, 'nthread': 4, 'objective': 'reg:squarederror', 'silent': 1, 'subsample': 0.0, 'verbosity': 0}\n",
      "Average F1-Score : [-0.030] | (+/-0.011) for {'colsample_bytree': 0.7, 'learning_rate': 0.05, 'max_depth': 7, 'min_child_weight': 4, 'n_estimators': 500, 'nthread': 4, 'objective': 'reg:squarederror', 'silent': 1, 'subsample': 0.1, 'verbosity': 0}\n",
      "Average F1-Score : [-0.033] | (+/-0.007) for {'colsample_bytree': 0.7, 'learning_rate': 0.05, 'max_depth': 7, 'min_child_weight': 4, 'n_estimators': 500, 'nthread': 4, 'objective': 'reg:squarederror', 'silent': 1, 'subsample': 0.2, 'verbosity': 0}\n",
      "Average F1-Score : [-0.034] | (+/-0.007) for {'colsample_bytree': 0.7, 'learning_rate': 0.05, 'max_depth': 7, 'min_child_weight': 4, 'n_estimators': 500, 'nthread': 4, 'objective': 'reg:squarederror', 'silent': 1, 'subsample': 0.30000000000000004, 'verbosity': 0}\n",
      "Average F1-Score : [-0.033] | (+/-0.006) for {'colsample_bytree': 0.7, 'learning_rate': 0.05, 'max_depth': 7, 'min_child_weight': 4, 'n_estimators': 500, 'nthread': 4, 'objective': 'reg:squarederror', 'silent': 1, 'subsample': 0.4, 'verbosity': 0}\n",
      "Average F1-Score : [-0.031] | (+/-0.006) for {'colsample_bytree': 0.7, 'learning_rate': 0.05, 'max_depth': 7, 'min_child_weight': 4, 'n_estimators': 500, 'nthread': 4, 'objective': 'reg:squarederror', 'silent': 1, 'subsample': 0.5, 'verbosity': 0}\n",
      "Average F1-Score : [-0.031] | (+/-0.008) for {'colsample_bytree': 0.7, 'learning_rate': 0.05, 'max_depth': 7, 'min_child_weight': 4, 'n_estimators': 500, 'nthread': 4, 'objective': 'reg:squarederror', 'silent': 1, 'subsample': 0.6000000000000001, 'verbosity': 0}\n",
      "Average F1-Score : [-0.033] | (+/-0.008) for {'colsample_bytree': 0.7, 'learning_rate': 0.05, 'max_depth': 7, 'min_child_weight': 4, 'n_estimators': 500, 'nthread': 4, 'objective': 'reg:squarederror', 'silent': 1, 'subsample': 0.7000000000000001, 'verbosity': 0}\n",
      "Average F1-Score : [-0.032] | (+/-0.007) for {'colsample_bytree': 0.7, 'learning_rate': 0.05, 'max_depth': 7, 'min_child_weight': 4, 'n_estimators': 500, 'nthread': 4, 'objective': 'reg:squarederror', 'silent': 1, 'subsample': 0.8, 'verbosity': 0}\n",
      "Average F1-Score : [-0.033] | (+/-0.005) for {'colsample_bytree': 0.7, 'learning_rate': 0.05, 'max_depth': 7, 'min_child_weight': 4, 'n_estimators': 500, 'nthread': 4, 'objective': 'reg:squarederror', 'silent': 1, 'subsample': 0.9, 'verbosity': 0}\n",
      "Average F1-Score : [-0.043] | (+/-0.017) for {'colsample_bytree': 0.7, 'learning_rate': 0.07, 'max_depth': 5, 'min_child_weight': 4, 'n_estimators': 500, 'nthread': 4, 'objective': 'reg:squarederror', 'silent': 1, 'subsample': 0.0, 'verbosity': 0}\n",
      "Average F1-Score : [-0.030] | (+/-0.013) for {'colsample_bytree': 0.7, 'learning_rate': 0.07, 'max_depth': 5, 'min_child_weight': 4, 'n_estimators': 500, 'nthread': 4, 'objective': 'reg:squarederror', 'silent': 1, 'subsample': 0.1, 'verbosity': 0}\n",
      "Average F1-Score : [-0.036] | (+/-0.007) for {'colsample_bytree': 0.7, 'learning_rate': 0.07, 'max_depth': 5, 'min_child_weight': 4, 'n_estimators': 500, 'nthread': 4, 'objective': 'reg:squarederror', 'silent': 1, 'subsample': 0.2, 'verbosity': 0}\n",
      "Average F1-Score : [-0.034] | (+/-0.011) for {'colsample_bytree': 0.7, 'learning_rate': 0.07, 'max_depth': 5, 'min_child_weight': 4, 'n_estimators': 500, 'nthread': 4, 'objective': 'reg:squarederror', 'silent': 1, 'subsample': 0.30000000000000004, 'verbosity': 0}\n",
      "Average F1-Score : [-0.033] | (+/-0.007) for {'colsample_bytree': 0.7, 'learning_rate': 0.07, 'max_depth': 5, 'min_child_weight': 4, 'n_estimators': 500, 'nthread': 4, 'objective': 'reg:squarederror', 'silent': 1, 'subsample': 0.4, 'verbosity': 0}\n",
      "Average F1-Score : [-0.031] | (+/-0.007) for {'colsample_bytree': 0.7, 'learning_rate': 0.07, 'max_depth': 5, 'min_child_weight': 4, 'n_estimators': 500, 'nthread': 4, 'objective': 'reg:squarederror', 'silent': 1, 'subsample': 0.5, 'verbosity': 0}\n",
      "Average F1-Score : [-0.030] | (+/-0.009) for {'colsample_bytree': 0.7, 'learning_rate': 0.07, 'max_depth': 5, 'min_child_weight': 4, 'n_estimators': 500, 'nthread': 4, 'objective': 'reg:squarederror', 'silent': 1, 'subsample': 0.6000000000000001, 'verbosity': 0}\n",
      "Average F1-Score : [-0.034] | (+/-0.007) for {'colsample_bytree': 0.7, 'learning_rate': 0.07, 'max_depth': 5, 'min_child_weight': 4, 'n_estimators': 500, 'nthread': 4, 'objective': 'reg:squarederror', 'silent': 1, 'subsample': 0.7000000000000001, 'verbosity': 0}\n",
      "Average F1-Score : [-0.033] | (+/-0.005) for {'colsample_bytree': 0.7, 'learning_rate': 0.07, 'max_depth': 5, 'min_child_weight': 4, 'n_estimators': 500, 'nthread': 4, 'objective': 'reg:squarederror', 'silent': 1, 'subsample': 0.8, 'verbosity': 0}\n",
      "Average F1-Score : [-0.033] | (+/-0.008) for {'colsample_bytree': 0.7, 'learning_rate': 0.07, 'max_depth': 5, 'min_child_weight': 4, 'n_estimators': 500, 'nthread': 4, 'objective': 'reg:squarederror', 'silent': 1, 'subsample': 0.9, 'verbosity': 0}\n",
      "Average F1-Score : [-0.043] | (+/-0.017) for {'colsample_bytree': 0.7, 'learning_rate': 0.07, 'max_depth': 6, 'min_child_weight': 4, 'n_estimators': 500, 'nthread': 4, 'objective': 'reg:squarederror', 'silent': 1, 'subsample': 0.0, 'verbosity': 0}\n",
      "Average F1-Score : [-0.030] | (+/-0.013) for {'colsample_bytree': 0.7, 'learning_rate': 0.07, 'max_depth': 6, 'min_child_weight': 4, 'n_estimators': 500, 'nthread': 4, 'objective': 'reg:squarederror', 'silent': 1, 'subsample': 0.1, 'verbosity': 0}\n",
      "Average F1-Score : [-0.036] | (+/-0.007) for {'colsample_bytree': 0.7, 'learning_rate': 0.07, 'max_depth': 6, 'min_child_weight': 4, 'n_estimators': 500, 'nthread': 4, 'objective': 'reg:squarederror', 'silent': 1, 'subsample': 0.2, 'verbosity': 0}\n",
      "Average F1-Score : [-0.034] | (+/-0.010) for {'colsample_bytree': 0.7, 'learning_rate': 0.07, 'max_depth': 6, 'min_child_weight': 4, 'n_estimators': 500, 'nthread': 4, 'objective': 'reg:squarederror', 'silent': 1, 'subsample': 0.30000000000000004, 'verbosity': 0}\n",
      "Average F1-Score : [-0.033] | (+/-0.007) for {'colsample_bytree': 0.7, 'learning_rate': 0.07, 'max_depth': 6, 'min_child_weight': 4, 'n_estimators': 500, 'nthread': 4, 'objective': 'reg:squarederror', 'silent': 1, 'subsample': 0.4, 'verbosity': 0}\n",
      "Average F1-Score : [-0.031] | (+/-0.009) for {'colsample_bytree': 0.7, 'learning_rate': 0.07, 'max_depth': 6, 'min_child_weight': 4, 'n_estimators': 500, 'nthread': 4, 'objective': 'reg:squarederror', 'silent': 1, 'subsample': 0.5, 'verbosity': 0}\n",
      "Average F1-Score : [-0.030] | (+/-0.006) for {'colsample_bytree': 0.7, 'learning_rate': 0.07, 'max_depth': 6, 'min_child_weight': 4, 'n_estimators': 500, 'nthread': 4, 'objective': 'reg:squarederror', 'silent': 1, 'subsample': 0.6000000000000001, 'verbosity': 0}\n",
      "Average F1-Score : [-0.034] | (+/-0.007) for {'colsample_bytree': 0.7, 'learning_rate': 0.07, 'max_depth': 6, 'min_child_weight': 4, 'n_estimators': 500, 'nthread': 4, 'objective': 'reg:squarederror', 'silent': 1, 'subsample': 0.7000000000000001, 'verbosity': 0}\n",
      "Average F1-Score : [-0.034] | (+/-0.007) for {'colsample_bytree': 0.7, 'learning_rate': 0.07, 'max_depth': 6, 'min_child_weight': 4, 'n_estimators': 500, 'nthread': 4, 'objective': 'reg:squarederror', 'silent': 1, 'subsample': 0.8, 'verbosity': 0}\n",
      "Average F1-Score : [-0.034] | (+/-0.009) for {'colsample_bytree': 0.7, 'learning_rate': 0.07, 'max_depth': 6, 'min_child_weight': 4, 'n_estimators': 500, 'nthread': 4, 'objective': 'reg:squarederror', 'silent': 1, 'subsample': 0.9, 'verbosity': 0}\n",
      "Average F1-Score : [-0.043] | (+/-0.017) for {'colsample_bytree': 0.7, 'learning_rate': 0.07, 'max_depth': 7, 'min_child_weight': 4, 'n_estimators': 500, 'nthread': 4, 'objective': 'reg:squarederror', 'silent': 1, 'subsample': 0.0, 'verbosity': 0}\n",
      "Average F1-Score : [-0.030] | (+/-0.013) for {'colsample_bytree': 0.7, 'learning_rate': 0.07, 'max_depth': 7, 'min_child_weight': 4, 'n_estimators': 500, 'nthread': 4, 'objective': 'reg:squarederror', 'silent': 1, 'subsample': 0.1, 'verbosity': 0}\n",
      "Average F1-Score : [-0.036] | (+/-0.007) for {'colsample_bytree': 0.7, 'learning_rate': 0.07, 'max_depth': 7, 'min_child_weight': 4, 'n_estimators': 500, 'nthread': 4, 'objective': 'reg:squarederror', 'silent': 1, 'subsample': 0.2, 'verbosity': 0}\n",
      "Average F1-Score : [-0.034] | (+/-0.010) for {'colsample_bytree': 0.7, 'learning_rate': 0.07, 'max_depth': 7, 'min_child_weight': 4, 'n_estimators': 500, 'nthread': 4, 'objective': 'reg:squarederror', 'silent': 1, 'subsample': 0.30000000000000004, 'verbosity': 0}\n",
      "Average F1-Score : [-0.033] | (+/-0.006) for {'colsample_bytree': 0.7, 'learning_rate': 0.07, 'max_depth': 7, 'min_child_weight': 4, 'n_estimators': 500, 'nthread': 4, 'objective': 'reg:squarederror', 'silent': 1, 'subsample': 0.4, 'verbosity': 0}\n",
      "Average F1-Score : [-0.032] | (+/-0.009) for {'colsample_bytree': 0.7, 'learning_rate': 0.07, 'max_depth': 7, 'min_child_weight': 4, 'n_estimators': 500, 'nthread': 4, 'objective': 'reg:squarederror', 'silent': 1, 'subsample': 0.5, 'verbosity': 0}\n",
      "Average F1-Score : [-0.031] | (+/-0.008) for {'colsample_bytree': 0.7, 'learning_rate': 0.07, 'max_depth': 7, 'min_child_weight': 4, 'n_estimators': 500, 'nthread': 4, 'objective': 'reg:squarederror', 'silent': 1, 'subsample': 0.6000000000000001, 'verbosity': 0}\n",
      "Average F1-Score : [-0.033] | (+/-0.006) for {'colsample_bytree': 0.7, 'learning_rate': 0.07, 'max_depth': 7, 'min_child_weight': 4, 'n_estimators': 500, 'nthread': 4, 'objective': 'reg:squarederror', 'silent': 1, 'subsample': 0.7000000000000001, 'verbosity': 0}\n",
      "Average F1-Score : [-0.033] | (+/-0.008) for {'colsample_bytree': 0.7, 'learning_rate': 0.07, 'max_depth': 7, 'min_child_weight': 4, 'n_estimators': 500, 'nthread': 4, 'objective': 'reg:squarederror', 'silent': 1, 'subsample': 0.8, 'verbosity': 0}\n",
      "Average F1-Score : [-0.034] | (+/-0.009) for {'colsample_bytree': 0.7, 'learning_rate': 0.07, 'max_depth': 7, 'min_child_weight': 4, 'n_estimators': 500, 'nthread': 4, 'objective': 'reg:squarederror', 'silent': 1, 'subsample': 0.9, 'verbosity': 0}\n"
     ]
    }
   ],
   "source": [
    "\n",
    "for mean, std, params in zip(means, stds, Model_Under_Optimization.cv_results_['params']):\n",
    "    print(\"Average F1-Score : [%0.3f] | (+/-%0.03f) for %r\"\n",
    "          % (mean, std * 2, params))"
   ]
  },
  {
   "cell_type": "code",
   "execution_count": 109,
   "metadata": {},
   "outputs": [],
   "source": [
    "optimised_XGB = Model_Under_Optimization.best_estimator_\n"
   ]
  },
  {
   "cell_type": "code",
   "execution_count": 110,
   "metadata": {},
   "outputs": [],
   "source": [
    "optimised_XGB.fit(X,Y)\n",
    "with open('optimzed_XGB.pkl','wb') as file:\n",
    "    pickle.dump(optimised_XGB,file)"
   ]
  },
  {
   "cell_type": "code",
   "execution_count": 111,
   "metadata": {},
   "outputs": [
    {
     "name": "stdout",
     "output_type": "stream",
     "text": [
      "Self Tested RMSE of RFR:  1.492590424586023\n"
     ]
    }
   ],
   "source": [
    "print(\"Self Tested RMSE of RFR: \",np.sqrt(((optimised_XGB.predict(X)-Y)**2).sum()))"
   ]
  },
  {
   "cell_type": "code",
   "execution_count": 130,
   "metadata": {},
   "outputs": [],
   "source": [
    "with open('Standard_Scaler.pkl','wb') as file:\n",
    "    pickle.dump(SSCALER,file)"
   ]
  },
  {
   "cell_type": "code",
   "execution_count": 142,
   "metadata": {},
   "outputs": [
    {
     "ename": "FileNotFoundError",
     "evalue": "[Errno 2] No such file or directory: 'optimzed_XGB.pkl'",
     "output_type": "error",
     "traceback": [
      "\u001b[1;31m---------------------------------------------------------------------------\u001b[0m",
      "\u001b[1;31mFileNotFoundError\u001b[0m                         Traceback (most recent call last)",
      "\u001b[1;32m<ipython-input-142-39e5b86099a1>\u001b[0m in \u001b[0;36m<module>\u001b[1;34m\u001b[0m\n\u001b[1;32m----> 1\u001b[1;33m \u001b[1;32mwith\u001b[0m \u001b[0mopen\u001b[0m\u001b[1;33m(\u001b[0m\u001b[1;34m'optimzed_XGB.pkl'\u001b[0m\u001b[1;33m,\u001b[0m\u001b[1;34m'rb'\u001b[0m\u001b[1;33m)\u001b[0m \u001b[1;32mas\u001b[0m \u001b[0mfile\u001b[0m\u001b[1;33m:\u001b[0m\u001b[1;33m\u001b[0m\u001b[1;33m\u001b[0m\u001b[0m\n\u001b[0m\u001b[0;32m      2\u001b[0m     \u001b[0mloaded_model\u001b[0m \u001b[1;33m=\u001b[0m \u001b[0mpickle\u001b[0m\u001b[1;33m.\u001b[0m\u001b[0mload\u001b[0m\u001b[1;33m(\u001b[0m\u001b[0mfile\u001b[0m\u001b[1;33m)\u001b[0m\u001b[1;33m\u001b[0m\u001b[1;33m\u001b[0m\u001b[0m\n",
      "\u001b[1;31mFileNotFoundError\u001b[0m: [Errno 2] No such file or directory: 'optimzed_XGB.pkl'"
     ]
    }
   ],
   "source": [
    "with open('optimzed_XGB.pkl','rb') as file:\n",
    "    loaded_model = pickle.load(file)"
   ]
  }
 ],
 "metadata": {
  "kernelspec": {
   "display_name": "Python 3",
   "language": "python",
   "name": "python3"
  },
  "language_info": {
   "codemirror_mode": {
    "name": "ipython",
    "version": 3
   },
   "file_extension": ".py",
   "mimetype": "text/x-python",
   "name": "python",
   "nbconvert_exporter": "python",
   "pygments_lexer": "ipython3",
   "version": "3.7.6"
  }
 },
 "nbformat": 4,
 "nbformat_minor": 4
}
